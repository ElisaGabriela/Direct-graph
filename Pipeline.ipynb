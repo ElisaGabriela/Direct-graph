{
  "nbformat": 4,
  "nbformat_minor": 0,
  "metadata": {
    "colab": {
      "provenance": []
    },
    "kernelspec": {
      "name": "python3",
      "display_name": "Python 3"
    },
    "language_info": {
      "name": "python"
    }
  },
  "cells": [
    {
      "cell_type": "markdown",
      "source": [
        "# Setup"
      ],
      "metadata": {
        "id": "ywOFrmAMX8QA"
      }
    },
    {
      "cell_type": "code",
      "execution_count": null,
      "metadata": {
        "colab": {
          "base_uri": "https://localhost:8080/"
        },
        "id": "tyzrx8eyXuLg",
        "outputId": "ae134d55-d8c6-4f20-8ef8-be8aacb8fde4"
      },
      "outputs": [
        {
          "output_type": "stream",
          "name": "stdout",
          "text": [
            "Looking in indexes: https://pypi.org/simple, https://us-python.pkg.dev/colab-wheels/public/simple/\n",
            "Collecting wikipedia\n",
            "  Downloading wikipedia-1.4.0.tar.gz (27 kB)\n",
            "Requirement already satisfied: beautifulsoup4 in /usr/local/lib/python3.8/dist-packages (from wikipedia) (4.6.3)\n",
            "Requirement already satisfied: requests<3.0.0,>=2.0.0 in /usr/local/lib/python3.8/dist-packages (from wikipedia) (2.23.0)\n",
            "Requirement already satisfied: idna<3,>=2.5 in /usr/local/lib/python3.8/dist-packages (from requests<3.0.0,>=2.0.0->wikipedia) (2.10)\n",
            "Requirement already satisfied: certifi>=2017.4.17 in /usr/local/lib/python3.8/dist-packages (from requests<3.0.0,>=2.0.0->wikipedia) (2022.9.24)\n",
            "Requirement already satisfied: chardet<4,>=3.0.2 in /usr/local/lib/python3.8/dist-packages (from requests<3.0.0,>=2.0.0->wikipedia) (3.0.4)\n",
            "Requirement already satisfied: urllib3!=1.25.0,!=1.25.1,<1.26,>=1.21.1 in /usr/local/lib/python3.8/dist-packages (from requests<3.0.0,>=2.0.0->wikipedia) (1.24.3)\n",
            "Building wheels for collected packages: wikipedia\n",
            "  Building wheel for wikipedia (setup.py) ... \u001b[?25l\u001b[?25hdone\n",
            "  Created wheel for wikipedia: filename=wikipedia-1.4.0-py3-none-any.whl size=11695 sha256=5e7ef4741c965d1d82dae133272e6020dbd7a99e47190df468a5dabe03a1f9dc\n",
            "  Stored in directory: /root/.cache/pip/wheels/07/93/05/72c05349177dca2e0ba31a33ba4f7907606f7ddef303517c6a\n",
            "Successfully built wikipedia\n",
            "Installing collected packages: wikipedia\n",
            "Successfully installed wikipedia-1.4.0\n"
          ]
        }
      ],
      "source": [
        "!pip install wikipedia"
      ]
    },
    {
      "cell_type": "code",
      "source": [
        "import logging\n",
        "from operator import itemgetter\n",
        "import networkx as nx\n",
        "import wikipedia\n",
        "import matplotlib.pyplot as plt\n",
        "import numpy as np\n",
        "import pandas as pd\n",
        "import seaborn as sns\n",
        "import os\n",
        "sns.set()"
      ],
      "metadata": {
        "id": "WZN-oeFfYCvX"
      },
      "execution_count": null,
      "outputs": []
    },
    {
      "cell_type": "code",
      "source": [
        "# configure logging\n",
        "# reference for a logging obj\n",
        "logger = logging.getLogger()\n",
        "\n",
        "# set level of logging\n",
        "logger.setLevel(logging.INFO)\n",
        "\n",
        "# create handlers\n",
        "c_handler = logging.StreamHandler()\n",
        "c_format = logging.Formatter(fmt=\"%(asctime)s %(message)s\",datefmt='%d-%m-%Y %H:%M:%S')\n",
        "c_handler.setFormatter(c_format)\n",
        "\n",
        "# add handler to the logger\n",
        "logger.handlers[0] = c_handler"
      ],
      "metadata": {
        "id": "xy8V2wY6YKNz"
      },
      "execution_count": null,
      "outputs": []
    },
    {
      "cell_type": "markdown",
      "source": [
        "# Criação do Grafo"
      ],
      "metadata": {
        "id": "fkV2lgliYPG1"
      }
    },
    {
      "cell_type": "code",
      "source": [
        "\n",
        "def create_graph(args: dict) -> nx.DiGraph:\n",
        "  logger.info(\"[INFO] Creating graph\")\n",
        "\n",
        "  # organizating the search\n",
        "  todo_lst = [(0, args['SEED'])] # The SEED is in the layer 0\n",
        "  todo_set = set(args['SEED']) # The SEED itself\n",
        "  done_set = set() # Nothing is done yet\n",
        "\n",
        "  # creating the initial graph\n",
        "  g = nx.DiGraph()\n",
        "  layer, page = todo_lst[0]\n",
        "\n",
        "  if os.path.isfile('extract.txt'):\n",
        "    file = open('extract.txt', 'w')\n",
        "  else:\n",
        "    file = open('extract.txt', 'x')\n",
        "    \n",
        "  while layer < 2:\n",
        "    # Remove the name page of the current page from the todo_lst, \n",
        "    # and add it to the set of processed pages. \n",
        "    # If the script encounters this page again, it will skip over it.\n",
        "    del todo_lst[0]\n",
        "    done_set.add(page)\n",
        "    \n",
        "    # Show progress\n",
        "    # print(layer, page)\n",
        "    file.write(f\"{layer} {page}\\n\")\n",
        "    \n",
        "    # Attempt to download the selected page.\n",
        "    try:\n",
        "      wiki = wikipedia.page(page)\n",
        "    except:\n",
        "      # print(\"Could not load\", page)\n",
        "      file.write(\"Could not load\\n\")\n",
        "      layer, page = todo_lst[0]\n",
        "      continue\n",
        "    \n",
        "    for link in wiki.links:\n",
        "      link = link.title()\n",
        "      if link not in args['STOPS'] and not link.startswith(\"List Of\"):\n",
        "        if link not in todo_set and link not in done_set:\n",
        "          todo_lst.append((layer + 1, link))\n",
        "          todo_set.add(link)\n",
        "        g.add_edge(page, link)\n",
        "    layer, page = todo_lst[0]\n",
        "\n",
        "  # close the file\n",
        "  file.close()\n",
        "  \n",
        "  return g"
      ],
      "metadata": {
        "id": "uzL2EnKBYTNX"
      },
      "execution_count": null,
      "outputs": []
    },
    {
      "cell_type": "markdown",
      "source": [
        "# Processamento dos nós da rede"
      ],
      "metadata": {
        "id": "rY3ehGfpdHWe"
      }
    },
    {
      "cell_type": "code",
      "source": [
        "def preprocessing(g: nx.DiGraph) -> nx.DiGraph:\n",
        "  logger.info(\"[INFO] Starting preprocessing\")\n",
        "\n",
        "  g.remove_edges_from(nx.selfloop_edges(g))\n",
        "\n",
        "  # identify duplicates like that: 'network' and 'networks'\n",
        "  duplicates = [(node, node + \"s\") \n",
        "                for node in g if node + \"s\" in g\n",
        "              ]\n",
        "\n",
        "  for dup in duplicates:\n",
        "    # *dup is a technique named 'unpacking'\n",
        "    g = nx.contracted_nodes(g, *dup, self_loops=False)\n",
        "\n",
        "  if os.path.isfile('preprocessing.txt'):\n",
        "    file2 = open('preprocessing.txt', 'w')\n",
        "  else:\n",
        "    file2 = open('preprocessing.txt', 'x')\n",
        "\n",
        "  # print(duplicates) # we can remove this line in the future\n",
        "  file2.write(f\"{duplicates}\")\n",
        "\n",
        "  duplicates = [(x, y) for x, y in \n",
        "                [(node, node.replace(\"-\", \" \")) for node in g]\n",
        "                  if x != y and y in g]\n",
        "\n",
        "  # print(duplicates) # we can remove this line in the future\n",
        "  file2.write(f\"{duplicates}\")\n",
        "  file2.close()\n",
        "\n",
        "  for dup in duplicates:\n",
        "    g = nx.contracted_nodes(g, *dup, self_loops=False)\n",
        "\n",
        "  # nx.contracted creates a new node/edge attribute called contraction\n",
        "  # the value of the attribute is a dictionary, but GraphML\n",
        "  # does not support dictionary attributes\n",
        "  nx.set_node_attributes(g, 0,\"contraction\")\n",
        "  nx.set_edge_attributes(g, 0,\"contraction\")\n",
        "\n",
        "  file2.close()\n",
        "  return g"
      ],
      "metadata": {
        "id": "B-x2DuCuc0VH"
      },
      "execution_count": null,
      "outputs": []
    },
    {
      "cell_type": "markdown",
      "source": [],
      "metadata": {
        "id": "MS02QtICdYMe"
      }
    },
    {
      "cell_type": "code",
      "source": [
        "def plot_histogram(g: nx.DiGraph):\n",
        "  plt.style.use(\"default\")\n",
        "  degree_sequence = sorted([d for n, d in g.degree()], reverse=True)  \n",
        "\n",
        "  fig, ax = plt.subplots(1,1,figsize=(8,4))\n",
        "\n",
        "  ax.hist(degree_sequence,bins=[1,2,3,4,5,6,7,8,9,10])\n",
        "\n",
        "  ax.set_title(\"Degree Histogram\")\n",
        "  ax.set_ylabel(\"Count\")\n",
        "  ax.set_xlabel(\"Degree\")\n",
        "  ax.set_xlim(0,10)\n",
        "  ax.set_ylim(0,15000)\n",
        "\n",
        "  plt.tight_layout()\n",
        "  plt.savefig('degree_hist.png', transparent=True,dpi=600,bbox_inches=\"tight\")\n",
        "  plt.show()"
      ],
      "metadata": {
        "id": "yd-k5vMMdQcB"
      },
      "execution_count": null,
      "outputs": []
    },
    {
      "cell_type": "code",
      "source": [
        "def truncate(g: nx.DiGraph):\n",
        "  logger.info(\"[INFO] Starting to truncate the network\")\n",
        "\n",
        "  # checking the degree for each node\n",
        "  plot_histogram(g)\n",
        "\n",
        "  # filter nodes with degree greater than or equal to 2\n",
        "  core = [node for node, deg in dict(g.degree()).items() if deg >= 2]\n",
        "\n",
        "  # select a subgraph with 'core' nodes\n",
        "  gsub = nx.subgraph(g, core)\n",
        "\n",
        "  logger.info(\"{} nodes, {} edges\".format(len(gsub), nx.number_of_edges(gsub)))\n",
        "\n",
        "  # reporting the final graph\n",
        "  nx.write_graphml(gsub, \"cna.graphml\")\n",
        "\n",
        "  logger.info(\"Nodes removed: {:.2f}%\".format(100*(1 - len(gsub)/len(g))))\n",
        "  logger.info(\"Edges removed: {:.2f}%\".format(100*(1 - nx.number_of_edges(gsub)/nx.number_of_edges(g))))\n",
        "  logger.info(\"Edges per nodes: {:.2f}\".format(nx.number_of_edges(gsub)/len(gsub)))"
      ],
      "metadata": {
        "id": "Lwx2EJ64daTa"
      },
      "execution_count": null,
      "outputs": []
    },
    {
      "cell_type": "markdown",
      "source": [
        "# Análise da rede"
      ],
      "metadata": {
        "id": "bLymtA8Vdt6Y"
      }
    },
    {
      "cell_type": "markdown",
      "source": [
        "## Nós mais citados"
      ],
      "metadata": {
        "id": "tgDJ6I9Dd3ox"
      }
    },
    {
      "cell_type": "code",
      "source": [
        "def most_significant_nodes(g: nx.DiGraph):\n",
        "  logger.info(\"[INFO] Getting the most significant nodes\")\n",
        "  # getting the most significant nodes with their respective number of connections\n",
        "  top_indegree = sorted(dict(g.in_degree()).items(),\n",
        "                      reverse=True, key=itemgetter(1))[:100]\n",
        "\n",
        "  # writing in a file\n",
        "  if os.path.isfile('most_sig_nodes.txt'):\n",
        "    file3 = open('most_sig_nodes.txt', 'w')\n",
        "  else:\n",
        "    file3 = open('most_sig_nodes.txt', 'x')\n",
        "\n",
        "  file3.write(\"\\n\".join(map(lambda t: \"{} {}\".format(*reversed(t)), top_indegree)))\n",
        "  file3.close()"
      ],
      "metadata": {
        "id": "SMxq6XCZdv1j"
      },
      "execution_count": null,
      "outputs": []
    },
    {
      "cell_type": "markdown",
      "source": [
        "## Composição do Núcleo (Core e Shell)"
      ],
      "metadata": {
        "id": "O9XTRTxld70J"
      }
    },
    {
      "cell_type": "code",
      "source": [
        "def core_composition(g: nx.DiGraph):\n",
        "  logger.info(\"[INFO] Exploring core composition\")\n",
        "  # how many k-cores does this network have\n",
        "  k_cores = set([v for k,v in nx.core_number(g).items()])\n",
        "\n",
        "  logger.info(f\"[INFO] K-cores: {k_cores}\")\n",
        "  logger.info(f\"[INFO] K-cores length: {len(k_cores)}\")\n",
        "\n",
        "  # who are in the innermost k-core\n",
        "  k_shell = list(nx.k_shell(g, 101))\n",
        "\n",
        "  logger.info(f\"[INFO] K-shell: {k_shell}\")\n",
        "  logger.info(f\"[INFO] K-shell length: {len(k_shell)}\")\n",
        "\n",
        "  if os.path.isfile('k_shell.txt'):\n",
        "    file4 = open('k_shell.txt', 'w')\n",
        "  else:\n",
        "    file4 = open('k_shell.txt', 'x')\n",
        "\n",
        "  for shell in k_shell:\n",
        "    file4.write(f\"{shell}\\n\")\n",
        "\n",
        "  file4.close()"
      ],
      "metadata": {
        "id": "s8Nk_X1SeK52"
      },
      "execution_count": null,
      "outputs": []
    },
    {
      "cell_type": "code",
      "source": [
        "def explore_network(g: nx.DiGraph):\n",
        "  g = nx.read_graphml('cna.graphml')\n",
        "  most_significant_nodes(g)\n",
        "  core_composition(g)\n",
        "     \n",
        "\n",
        "def compose (*functions):\n",
        "    def inner(arg):\n",
        "        for f in functions:\n",
        "            arg = f(arg)\n",
        "        return arg\n",
        "    return inner\n",
        "     "
      ],
      "metadata": {
        "id": "tDLDvlmwiYzS"
      },
      "execution_count": null,
      "outputs": []
    },
    {
      "cell_type": "markdown",
      "source": [
        "# Resultados"
      ],
      "metadata": {
        "id": "aAwRZGr5gr7u"
      }
    },
    {
      "cell_type": "code",
      "source": [
        "# setup seed and stops\n",
        "SEED = \"Thermoeconomics\".title()\n",
        "STOPS = (\"International Standard Serial Number\",\n",
        "         \"International Standard Book Number\",\n",
        "         \"National Diet Library\",\n",
        "         \"International Standard Name Identifier\",\n",
        "         \"International Standard Book Number (Identifier)\",\n",
        "         \"Pubmed Identifier\",\n",
        "         \"Issn (Identifier)\", \n",
        "         \"Pubmed Central\",\n",
        "         \"Digital Object Identifier\", \n",
        "         \"Arxiv\",\n",
        "         \"Proc Natl Acad Sci Usa\", \n",
        "         \"Bibcode\",\n",
        "         \"Library Of Congress Control Number\", \n",
        "         \"Jstor\",\n",
        "         \"Doi (Identifier)\",\n",
        "         \"S2Cid (Identifier)\",\n",
        "         \"Jstor (Identifier)\",\n",
        "         \"Oclc (Identifier)\",\n",
        "         \"Isbn (Identifier)\",\n",
        "         \"Pmid (Identifier)\",\n",
        "         \"Arxiv (Identifier)\",\n",
        "         \"Bibcode (Identifier)\")\n",
        "\n",
        "args = {\n",
        "    'SEED': SEED,\n",
        "    'STOPS': STOPS\n",
        "}\n",
        "     \n",
        "\n",
        "composed = compose(create_graph, preprocessing, truncate, explore_network)\n",
        "composed(args)"
      ],
      "metadata": {
        "colab": {
          "base_uri": "https://localhost:8080/",
          "height": 756
        },
        "id": "RGUs66KcgrfK",
        "outputId": "a3e80927-1002-4314-f428-7cd4c5ddef53"
      },
      "execution_count": null,
      "outputs": [
        {
          "output_type": "stream",
          "name": "stderr",
          "text": [
            "11-12-2022 19:23:42 [INFO] Creating graph\n",
            "/usr/local/lib/python3.8/dist-packages/wikipedia/wikipedia.py:389: UserWarning: No parser was explicitly specified, so I'm using the best available HTML parser for this system (\"lxml\"). This usually isn't a problem, but if you run this code on another system, or in a different virtual environment, it may use a different parser and behave differently.\n",
            "\n",
            "The code that caused this warning is on line 389 of the file /usr/local/lib/python3.8/dist-packages/wikipedia/wikipedia.py. To get rid of this warning, pass the additional argument 'features=\"lxml\"' to the BeautifulSoup constructor.\n",
            "\n",
            "  lis = BeautifulSoup(html).find_all('li')\n",
            "11-12-2022 19:24:55 [INFO] Starting preprocessing\n",
            "11-12-2022 19:25:47 [INFO] Starting to truncate the network\n"
          ]
        },
        {
          "output_type": "display_data",
          "data": {
            "text/plain": [
              "<Figure size 800x400 with 1 Axes>"
            ],
            "image/png": "[encoded data removed]"
          },
          "metadata": {}
        },
        {
          "output_type": "stream",
          "name": "stderr",
          "text": [
            "11-12-2022 19:25:49 7427 nodes, 44759 edges\n",
            "11-12-2022 19:25:51 Nodes removed: 63.30%\n",
            "11-12-2022 19:25:51 Edges removed: 22.25%\n",
            "11-12-2022 19:25:51 Edges per nodes: 6.03\n",
            "11-12-2022 19:25:53 [INFO] Getting the most significant nodes\n",
            "11-12-2022 19:25:53 [INFO] Exploring core composition\n",
            "11-12-2022 19:25:53 [INFO] K-cores: {2, 3, 4, 5, 6, 7, 8, 9, 10, 11, 12, 13, 14, 15, 16, 17, 18, 19, 20, 21, 22, 23, 24, 25, 26, 27, 28, 29, 30, 31, 32, 33, 34, 35, 36, 37, 38, 39, 40, 41, 43, 46, 47, 48, 49, 50, 51, 52, 53, 54, 55, 56, 57, 58, 59, 63, 64, 66, 69, 70, 83, 85, 86, 94, 97, 101}\n",
            "11-12-2022 19:25:53 [INFO] K-cores length: 66\n",
            "11-12-2022 19:25:53 [INFO] K-shell: ['Birmingham School (Economics)', 'Feminist Economics', 'Thermoeconomics', 'New Neoclassical Synthesis', 'Social Credit', 'Marxism And Keynesianism', 'Rational Expectations', 'Evolutionary Economics', 'Monetarism', 'Structuralist Economics', 'School Of Salamanca', 'Socialist Economics', 'New Institutional Economics', 'Real Business-Cycle Theory', 'Manchester Liberalism', 'Disequilibrium Macroeconomics', 'Carnegie School', 'American School (Economics)', 'Modern Monetary Theory', 'Behavioral Economics', 'Economic System', 'Neoclassical Synthesis', 'Malthusianism', 'Austrian School', 'Neo-Keynesian Economics', 'Lausanne School', 'Constitutional Economics', 'Monetary Circuit Theory', 'Heterodox Economics', 'Mercantilism', 'Schools Of Economic Thought', 'Supply-Side Economics', 'Neo-Malthusianism', 'Kraków School Of Economics', 'Distributism', 'Capability Approach', 'Physiocracy', 'New-Keynesian Economics', 'New Classical Macroeconomics', 'Marginalism', 'Ancient Economic Thought', 'Regulation School', 'French Liberal School', 'Historical School Of Economics', 'Mutualism (Economic Theory)', 'Chartalism', 'Cameralism', 'Public Choice', 'Ricardian Economics', 'Anarchist Economics', 'History Of Economic Thought', 'Saltwater And Freshwater Economics', 'Institutional Economics', 'Neo-Ricardianism', 'Virginia School Of Political Economy', 'Neo-Marxian Economics', 'Freiburg School', 'Buddhist Economics', 'Keynesian Economics', 'Marxian Economics', 'Neoclassical Economics', 'Post-Autistic Economics', 'English Historical School Of Economics', 'Chicago School Of Economics']\n",
            "11-12-2022 19:25:53 [INFO] K-shell length: 64\n"
          ]
        }
      ]
    }
  ]
}